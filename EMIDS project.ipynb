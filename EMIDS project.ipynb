{
 "cells": [
  {
   "cell_type": "code",
   "execution_count": 1,
   "id": "b0e02d65",
   "metadata": {},
   "outputs": [],
   "source": [
    "import face_recognition\n",
    "import cv2\n",
    "import numpy as np \n",
    "from os import listdir\n",
    "from os.path import isfile, join\n",
    "from glob import glob\n",
    "import keras\n",
    "from keras.models import model_from_json\n",
    "from keras.models import Sequential\n",
    "from keras.layers import Dense, Dropout, Flatten\n",
    "from keras.layers import Conv3D, MaxPooling3D\n",
    "from keras import backend as K\n",
    "import time\n",
    "import webbrowser"
   ]
  },
  {
   "cell_type": "code",
   "execution_count": 29,
   "id": "63a6e34a",
   "metadata": {},
   "outputs": [],
   "source": [
    "model = Sequential()\n",
    "model.add(Conv3D(32, kernel_size=(3, 3, 3),activation='relu', input_shape=(24,100,100,1)))\n",
    "model.add(Conv3D(64, (3, 3, 3), activation='relu'))\n",
    "model.add(MaxPooling3D(pool_size=(2, 2, 2)))\n",
    "model.add(Conv3D(64, (3, 3, 3), activation='relu'))\n",
    "model.add(MaxPooling3D(pool_size=(2, 2, 2)))\n",
    "model.add(Conv3D(64, (3, 3, 3), activation='relu'))\n",
    "model.add(MaxPooling3D(pool_size=(2, 2, 2)))\n",
    "model.add(Dropout(0.25))\n",
    "model.add(Flatten())\n",
    "model.add(Dense(128, activation='relu'))\n",
    "model.add(Dropout(0.5))\n",
    "model.add(Dense(2, activation='softmax'))\n",
    "model.compile(loss='binary_crossentropy',optimizer='adam',metrics=['accuracy'])"
   ]
  },
  {
   "cell_type": "code",
   "execution_count": null,
   "id": "cb738487",
   "metadata": {},
   "outputs": [],
   "source": [
    "model.load_weights(r\"Python\\model\\model.h5\")"
   ]
  },
  {
   "cell_type": "code",
   "execution_count": 30,
   "id": "ca06b3fa",
   "metadata": {},
   "outputs": [],
   "source": [
    "#model.load_weights(r\"Python\\model\\model.h5\")"
   ]
  },
  {
   "cell_type": "code",
   "execution_count": 31,
   "id": "3835989d",
   "metadata": {},
   "outputs": [
    {
     "name": "stdout",
     "output_type": "stream",
     "text": [
      "Model: \"sequential_1\"\n",
      "_________________________________________________________________\n",
      " Layer (type)                Output Shape              Param #   \n",
      "=================================================================\n",
      " conv3d_4 (Conv3D)           (None, 22, 98, 98, 32)    896       \n",
      "                                                                 \n",
      " conv3d_5 (Conv3D)           (None, 20, 96, 96, 64)    55360     \n",
      "                                                                 \n",
      " max_pooling3d_3 (MaxPooling  (None, 10, 48, 48, 64)   0         \n",
      " 3D)                                                             \n",
      "                                                                 \n",
      " conv3d_6 (Conv3D)           (None, 8, 46, 46, 64)     110656    \n",
      "                                                                 \n",
      " max_pooling3d_4 (MaxPooling  (None, 4, 23, 23, 64)    0         \n",
      " 3D)                                                             \n",
      "                                                                 \n",
      " conv3d_7 (Conv3D)           (None, 2, 21, 21, 64)     110656    \n",
      "                                                                 \n",
      " max_pooling3d_5 (MaxPooling  (None, 1, 10, 10, 64)    0         \n",
      " 3D)                                                             \n",
      "                                                                 \n",
      " dropout_2 (Dropout)         (None, 1, 10, 10, 64)     0         \n",
      "                                                                 \n",
      " flatten_1 (Flatten)         (None, 6400)              0         \n",
      "                                                                 \n",
      " dense_2 (Dense)             (None, 128)               819328    \n",
      "                                                                 \n",
      " dropout_3 (Dropout)         (None, 128)               0         \n",
      "                                                                 \n",
      " dense_3 (Dense)             (None, 2)                 258       \n",
      "                                                                 \n",
      "=================================================================\n",
      "Total params: 1,097,154\n",
      "Trainable params: 1,097,154\n",
      "Non-trainable params: 0\n",
      "_________________________________________________________________\n"
     ]
    }
   ],
   "source": [
    "model.summary()"
   ]
  },
  {
   "cell_type": "code",
   "execution_count": 32,
   "id": "fc6ddcc2",
   "metadata": {},
   "outputs": [],
   "source": [
    "def get_users():\n",
    "\n",
    "    known_namess=[]\n",
    "    known_encods=[]\n",
    "    l=\"Python\\model\\*.jpeg\"\n",
    "\n",
    "    for i in glob(l):\n",
    "        img = face_recognition.load_image_file(i)\n",
    "        encoding = face_recognition.face_encodings(img)[0]\n",
    "        known_encods.append(encoding)\n",
    "        known_namess.append(i[7:-4])\n",
    "\n",
    "    return known_namess, known_encods"
   ]
  },
  {
   "cell_type": "code",
   "execution_count": 33,
   "id": "64c57366",
   "metadata": {},
   "outputs": [],
   "source": [
    "known_names, known_encods = get_users()"
   ]
  },
  {
   "cell_type": "code",
   "execution_count": 34,
   "id": "29379c6a",
   "metadata": {},
   "outputs": [
    {
     "data": {
      "text/plain": [
       "[]"
      ]
     },
     "execution_count": 34,
     "metadata": {},
     "output_type": "execute_result"
    }
   ],
   "source": [
    "known_names"
   ]
  },
  {
   "cell_type": "code",
   "execution_count": 35,
   "id": "5d877c78",
   "metadata": {},
   "outputs": [],
   "source": [
    "#known_names=[]\n",
    "#for i in known_names:\n",
    "    #x=i.split('/')[3]\n",
    "   # known_names.append(x)"
   ]
  },
  {
   "cell_type": "code",
   "execution_count": 36,
   "id": "9b9dbe27",
   "metadata": {
    "scrolled": true
   },
   "outputs": [
    {
     "data": {
      "text/plain": [
       "[]"
      ]
     },
     "execution_count": 36,
     "metadata": {},
     "output_type": "execute_result"
    }
   ],
   "source": [
    "known_encods"
   ]
  },
  {
   "cell_type": "code",
   "execution_count": 37,
   "id": "d5f953d3",
   "metadata": {},
   "outputs": [],
   "source": [
    "font = cv2.FONT_HERSHEY_TRIPLEX"
   ]
  },
  {
   "cell_type": "code",
   "execution_count": 38,
   "id": "b9ebea65",
   "metadata": {},
   "outputs": [
    {
     "data": {
      "text/plain": [
       "True"
      ]
     },
     "execution_count": 38,
     "metadata": {},
     "output_type": "execute_result"
    }
   ],
   "source": [
    "video_capture = cv2.VideoCapture(0)\n",
    "video_capture.set(3, 640)\n",
    "video_capture.set(4, 480)"
   ]
  },
  {
   "cell_type": "code",
   "execution_count": 25,
   "id": "655d497a",
   "metadata": {},
   "outputs": [
    {
     "name": "stdout",
     "output_type": "stream",
     "text": [
      "1/1 [==============================] - 1s 676ms/step\n",
      "1/1 [==============================] - 1s 653ms/step\n",
      "1/1 [==============================] - 1s 633ms/step\n",
      "1/1 [==============================] - 1s 627ms/step\n",
      "1/1 [==============================] - 1s 627ms/step\n",
      "1/1 [==============================] - 1s 640ms/step\n",
      "1/1 [==============================] - 1s 624ms/step\n",
      "1/1 [==============================] - 1s 637ms/step\n",
      "1/1 [==============================] - 1s 634ms/step\n",
      "1/1 [==============================] - 1s 626ms/step\n",
      "1/1 [==============================] - 1s 617ms/step\n",
      "1/1 [==============================] - 1s 684ms/step\n",
      "1/1 [==============================] - 1s 641ms/step\n",
      "1/1 [==============================] - 1s 625ms/step\n",
      "1/1 [==============================] - 1s 622ms/step\n",
      "1/1 [==============================] - 1s 643ms/step\n",
      "1/1 [==============================] - 1s 633ms/step\n"
     ]
    }
   ],
   "source": [
    "video_capture = cv2.VideoCapture(0)\n",
    "video_capture.set(3, 640)\n",
    "video_capture.set(4, 480)\n",
    "\n",
    "face_locations = []\n",
    "face_encodings = []\n",
    "face_names = []\n",
    "process_this_frame = True\n",
    "input_vid = []\n",
    "\n",
    "unlock = False\n",
    "\n",
    "while True:\n",
    "    # Grab a single frame of video\n",
    "    if len(input_vid) < 24:\n",
    "\n",
    "        ret, frame = video_capture.read()\n",
    "\n",
    "        liveimg = cv2.resize(frame, (100,100))\n",
    "        liveimg = cv2.cvtColor(liveimg, cv2.COLOR_BGR2GRAY)\n",
    "        input_vid.append(liveimg)\n",
    "    else:\n",
    "        ret, frame = video_capture.read()\n",
    "\n",
    "        liveimg = cv2.resize(frame, (100,100))\n",
    "        liveimg = cv2.cvtColor(liveimg, cv2.COLOR_BGR2GRAY)\n",
    "        input_vid.append(liveimg)\n",
    "        inp = np.array([input_vid[-24:]])\n",
    "        inp = inp/255\n",
    "        inp = inp.reshape(1,24,100,100,1)\n",
    "        pred = model.predict(inp)\n",
    "        input_vid = input_vid[-25:]\n",
    "\n",
    "        if pred[0][0]> .95:\n",
    "\n",
    "            # Resize frame of video to 1/4 size for faster face recognition processing\n",
    "            small_frame = cv2.resize(frame, (0, 0), fx=0.25, fy=0.25)\n",
    "\n",
    "            if process_this_frame:\n",
    "                # Find all the faces and face encodings in the current frame of video\n",
    "                face_locations = face_recognition.face_locations(small_frame)\n",
    "                face_encodings = face_recognition.face_encodings(small_frame, face_locations)\n",
    "                name = \"Unknown\"\n",
    "                face_names = []\n",
    "                for face_encoding in face_encodings:\n",
    "                    for ii in range(len(known_encods)):\n",
    "                        # See if the face is a match for the known face(s)\n",
    "                        match = face_recognition.compare_faces([known_encods[ii]], face_encoding)\n",
    "\n",
    "                        if match[0]:\n",
    "                            name = known_names[ii]\n",
    "\n",
    "                    face_names.append(name)\n",
    "\n",
    "            process_this_frame = not process_this_frame\n",
    "\n",
    "            unlock = False\n",
    "            for n in face_names:\n",
    "\n",
    "                if n != 'Unknown':\n",
    "                    unlock=True\n",
    "\n",
    "\n",
    "            # Display the results\n",
    "            for (top, right, bottom, left), name in zip(face_locations, face_names):\n",
    "                top *= 4\n",
    "                right *= 4\n",
    "                bottom *= 4\n",
    "                left *= 4\n",
    "\n",
    "                # Draw a box around the face\n",
    "                cv2.rectangle(frame, (left, top), (right, bottom), (0, 0, 255), 2)\n",
    "\n",
    "                # Draw a label with a name below the face\n",
    "                cv2.rectangle(frame, (left, bottom - 35), (right, bottom), (0, 0, 255), cv2.FILLED)\n",
    "                \n",
    "                cv2.putText(frame, name, (left + 6, bottom - 6), font, 1.0, (255, 255, 255), 1)\n",
    "                if unlock:\n",
    "                    cv2.putText(frame, 'Verified', (frame.shape[1]//2, frame.shape[0]//2), font, 1.0, (255, 255, 255), 1)\n",
    "                else:\n",
    "                    cv2.putText(frame, 'Not Verified', (frame.shape[1]//2, frame.shape[0]//2), font, 1.0, (255, 255, 255), 1)\n",
    "        else:\n",
    "            cv2.putText(frame, 'WARNING!', (frame.shape[1]//2, frame.shape[0]//2), font, 1.0, (255, 255, 255), 1)\n",
    "        # Display the liveness score in top left corner     \n",
    "        cv2.putText(frame, str(pred[0][0]), (10, 10), font, 1.0, (255, 255, 0), 1)\n",
    "        # Display the resulting image\n",
    "        cv2.imshow('Video', frame)\n",
    "                \n",
    "        \n",
    "        # Hit 'q' on the keyboard to quit!\n",
    "        if cv2.waitKey(1) & 0xFF == ord('q'):\n",
    "            break\n",
    "        n1='s\\\\ADMIN\\\\Python\\\\model\\\\Azhar.'\n",
    "        n2='s\\\\ADMIN\\\\Python\\\\model\\\\Sheik.'\n",
    "       # n3='model\\\\Gokul'\n",
    "\n",
    "        if (unlock==True):\n",
    "            if (n1 in face_names):\n",
    "                time.sleep(3)\n",
    "                webbrowser.open('https://test-test-123456.my.canva.site/is-this-your')\n",
    "                break\n",
    "            elif(n2 in face_names):\n",
    "                time.sleep(3)\n",
    "                webbrowser.open('https://test-test-123456.my.canva.site/ka-02-js-1642')\n",
    "                break\n",
    "            #elif(n3 in face_names):\n",
    "               # time.sleep(3)\n",
    "                #webbrowser.open('https://test-test-123456.my.canva.site/tn-12-cv-7029')\n",
    "                #break\n",
    "\n",
    "video_capture.release()\n",
    "cv2.destroyAllWindows()"
   ]
  },
  {
   "cell_type": "code",
   "execution_count": null,
   "id": "36c21f05",
   "metadata": {},
   "outputs": [],
   "source": []
  }
 ],
 "metadata": {
  "kernelspec": {
   "display_name": "Python 3 (ipykernel)",
   "language": "python",
   "name": "python3"
  },
  "language_info": {
   "codemirror_mode": {
    "name": "ipython",
    "version": 3
   },
   "file_extension": ".py",
   "mimetype": "text/x-python",
   "name": "python",
   "nbconvert_exporter": "python",
   "pygments_lexer": "ipython3",
   "version": "3.9.12"
  }
 },
 "nbformat": 4,
 "nbformat_minor": 5
}
